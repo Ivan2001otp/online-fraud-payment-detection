{
 "cells": [
  {
   "cell_type": "code",
   "execution_count": 16,
   "metadata": {},
   "outputs": [
    {
     "name": "stdout",
     "output_type": "stream",
     "text": [
      "['No Fraud']\n"
     ]
    }
   ],
   "source": [
    "import numpy as np\n",
    "import pandas as pd\n",
    "import plotly.express as px\n",
    "from sklearn.model_selection import train_test_split\n",
    "from sklearn.tree import DecisionTreeClassifier\n",
    "\n",
    "data = pd.read_csv(\"dataset.csv\")\n",
    "# print(data.head())\n",
    "# print(data.isnull().sum())\n",
    "# exploring transaction types.\n",
    "# print(data.type.value_counts())\n",
    "\n",
    "#data presentation of transaction type\n",
    "# type = data[\"type\"].value_counts()\n",
    "# transactions = type.index\n",
    "# quantity = type.values\n",
    "\n",
    "# figure = px.pie(data,values=quantity,names=transactions,hole=0.3,title=\"Distribution of Transaction Type\")\n",
    "# figure.show()\n",
    "\n",
    "#checking correlation\n",
    "# correlation = data.corr()\n",
    "# print(correlation[\"isFraud\"].sort_values(ascending=False))\n",
    "\n",
    "\n",
    "#transforming categorical values to numerical valus\n",
    "data[\"type\"] = data[\"type\"].map({\"CASH_OUT\":1,\"PAYMENT\":2,\"CASH_IN\":3,\"TRANSFER\":4,\"DEBIT\":5,})\n",
    "data[\"isFraud\"] = data[\"isFraud\"].map({0:\"No Fraud\",1:\"Fraud\"})\n",
    "# print(data.head())\n",
    "\n",
    "\n",
    "#Splitting data\n",
    "x = np.array(data[[\"type\",\"amount\",\"oldbalanceOrg\",\"newbalanceOrig\"]])\n",
    "y = np.array(data[[\"isFraud\"]])\n",
    "\n",
    "#train a machine learning model\n",
    "xtrain,xtest,ytrain,ytest = train_test_split(x,y,test_size=0.20,random_state=42)\n",
    "model = DecisionTreeClassifier()\n",
    "model.fit(xtrain,ytrain)\n",
    "# print(model.score(xtest,ytest))\n",
    "\n",
    "#prediction\n",
    "#features = [type, amount, oldbalanceOrg, newbalanceOrig]\n",
    "features = np.array([[4,600.23,2000.12,20000.0]])\n",
    "print(model.predict(features))"
   ]
  }
 ],
 "metadata": {
  "kernelspec": {
   "display_name": "Python 3",
   "language": "python",
   "name": "python3"
  },
  "language_info": {
   "codemirror_mode": {
    "name": "ipython",
    "version": 3
   },
   "file_extension": ".py",
   "mimetype": "text/x-python",
   "name": "python",
   "nbconvert_exporter": "python",
   "pygments_lexer": "ipython3",
   "version": "3.10.8"
  }
 },
 "nbformat": 4,
 "nbformat_minor": 2
}
